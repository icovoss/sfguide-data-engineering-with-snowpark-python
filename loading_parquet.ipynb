{
 "cells": [
  {
   "cell_type": "code",
   "execution_count": 3,
   "metadata": {},
   "outputs": [],
   "source": [
    "import time\n",
    "from snowflake.snowpark import Session, context\n",
    "from utils import snowpark_utils"
   ]
  },
  {
   "cell_type": "code",
   "execution_count": 5,
   "metadata": {},
   "outputs": [
    {
     "name": "stdout",
     "output_type": "stream",
     "text": [
      "Initiating login request with your identity provider. A browser window should have opened for you to complete the login. If you can't see it, check existing browser windows, or your OS settings. Press CTRL+C to abort and try again...\n",
      "Going to open: https://login.microsoftonline.com/ca1a177b-960d-438e-8491-3caf7a255694/saml2?SAMLRequest=nZJbc9owEIX%2Fikd9ti3bhIsGyHAZUk8JYcC0mbwJeyFKbMnVyjjpr69sYCZ9SB76ppHO7ne0Z4e3b0XunECjUHJEAo8SB2SqMiGPI7JLFm6fOGi4zHiuJIzIOyC5HQ%2BRF3nJJpV5lhv4XQEaxzaSyJqHEam0ZIqjQCZ5AchMyraT%2ByULPco4ImhjceRSkqGwrGdjSub7dV17deQpffRDSqlPB75VNZJv5AOi%2FJpRamVUqvJryZv90yeIwKedBmEVlrC%2BFE6FPI%2FgK8r%2BLEL2PUnW7vphmxBncv3dTEmsCtBb0CeRwm6zPBtA6yBexUn8sNp6tR2cC5VWJXj8T6XBQ6nqQ85fIVVFWRnb3rMn%2FwCZn6ujsEOL5yNSvoqsO%2BH7%2FTT4dVxuNpvobvoIu%2FvFY63n9R1Wk6cf%2BvQilvsZvhxVSpyf14jDJuIYsYJYNsEae0XDyKV9N%2BgnQYdFlEVdjw6iJ%2BLMrT8huWkrr%2B5bH14hUq1QHYySuZDQukx5wINeb%2B8OujRzO1Ef3H5nELhRyg89Ht7cdAcdv4kvJOcVYq0RPf7vwQz9j20ua7myScXztcpF%2Bu4slC64%2BTzIwAvaG5G5h1bKoOAin2SZBkQbaJ6reqaBG7v9RldA%2FPGZ%2Bu%2F%2Bj%2F8C&RelayState=55907 to authenticate...\n"
     ]
    }
   ],
   "source": [
    "CONNECTION_PARAMETERS = {\n",
    "            \"account\":\"initions.west-europe.azure\", \n",
    "            \"user\":\"oliver.voss@initions-consulting.com\", \n",
    "            \"authenticator\":\"externalbrowser\",\n",
    "            \"database\":\"HOL_DB\",\n",
    "            #\"schema\":\"\",\n",
    "            \"warehouse\":\"WH_XS\",\n",
    "            \"role\":\"HOL_ROLE\"\n",
    "        }\n",
    "session = Session.builder.configs(CONNECTION_PARAMETERS).create()"
   ]
  },
  {
   "cell_type": "code",
   "execution_count": 15,
   "metadata": {},
   "outputs": [],
   "source": [
    "session.use_schema('external')\n",
    "tname = 'truck'\n",
    "location = f'@external.frostbyte_raw_stage/pos/{tname}'\n",
    "sf_df = session.read.option(\"compression\", \"snappy\").parquet(location)"
   ]
  },
  {
   "cell_type": "code",
   "execution_count": 16,
   "metadata": {},
   "outputs": [
    {
     "data": {
      "text/plain": [
       "[Row(status='Copy executed with 0 files processed.')]"
      ]
     },
     "execution_count": 16,
     "metadata": {},
     "output_type": "execute_result"
    }
   ],
   "source": [
    "sf_df.copy_into_table(f'{tname}')"
   ]
  },
  {
   "cell_type": "code",
   "execution_count": 13,
   "metadata": {},
   "outputs": [
    {
     "name": "stdout",
     "output_type": "stream",
     "text": [
      "-----------------------------------------------------------------------------------------------------------------------------------------------------------------------------------------------------------------------------------\n",
      "|\"TRUCK_ID\"  |\"MENU_TYPE_ID\"  |\"PRIMARY_CITY\"  |\"REGION\"    |\"ISO_REGION\"  |\"COUNTRY\"      |\"ISO_COUNTRY_CODE\"  |\"FRANCHISE_FLAG\"  |\"YEAR\"  |\"MAKE\"        |\"MODEL\"           |\"EV_FLAG\"  |\"FRANCHISE_ID\"  |\"TRUCK_OPENING_DATE\"  |\n",
      "-----------------------------------------------------------------------------------------------------------------------------------------------------------------------------------------------------------------------------------\n",
      "|3           |3               |San Mateo       |California  |CA            |United States  |US                  |1                 |2004    |Freightliner  |MT45 Utilimaster  |0          |2               |2021-10-01            |\n",
      "|4           |4               |San Mateo       |California  |CA            |United States  |US                  |1                 |1997    |Chevrolet     |P30               |1          |3               |2021-01-01            |\n",
      "|5           |5               |San Mateo       |California  |CA            |United States  |US                  |1                 |2010    |Custom        |Van               |1          |4               |2022-04-01            |\n",
      "|6           |6               |San Mateo       |California  |CA            |United States  |US                  |1                 |2010    |Airstream     |Trailer           |0          |5               |2019-07-01            |\n",
      "|7           |7               |San Mateo       |California  |CA            |United States  |US                  |1                 |2010    |Custom        |Van               |0          |6               |2021-01-01            |\n",
      "|8           |8               |San Mateo       |California  |CA            |United States  |US                  |1                 |1999    |Chevrolet     |P30               |1          |7               |2022-04-01            |\n",
      "|9           |9               |San Mateo       |California  |CA            |United States  |US                  |1                 |2008    |Custom        |Box Truck         |0          |8               |2020-07-01            |\n",
      "|12          |12              |San Mateo       |California  |CA            |United States  |US                  |1                 |2010    |Custom        |Van               |0          |11              |2021-04-01            |\n",
      "|13          |13              |San Mateo       |California  |CA            |United States  |US                  |1                 |2000    |Freightliner  |MT45 Utilimaster  |0          |12              |2021-07-01            |\n",
      "|14          |14              |San Mateo       |California  |CA            |United States  |US                  |1                 |2004    |Freightliner  |MT45 Utilimaster  |0          |12              |2020-10-01            |\n",
      "-----------------------------------------------------------------------------------------------------------------------------------------------------------------------------------------------------------------------------------\n",
      "\n"
     ]
    }
   ],
   "source": [
    "sf_df.show()"
   ]
  },
  {
   "cell_type": "code",
   "execution_count": null,
   "metadata": {},
   "outputs": [],
   "source": []
  }
 ],
 "metadata": {
  "kernelspec": {
   "display_name": "snowpark_etl_env",
   "language": "python",
   "name": "python3"
  },
  "language_info": {
   "codemirror_mode": {
    "name": "ipython",
    "version": 3
   },
   "file_extension": ".py",
   "mimetype": "text/x-python",
   "name": "python",
   "nbconvert_exporter": "python",
   "pygments_lexer": "ipython3",
   "version": "3.8.10"
  },
  "orig_nbformat": 4
 },
 "nbformat": 4,
 "nbformat_minor": 2
}
